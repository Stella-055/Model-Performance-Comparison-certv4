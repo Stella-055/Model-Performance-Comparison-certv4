{
 "cells": [
  {
   "cell_type": "code",
   "execution_count": 1,
   "metadata": {},
   "outputs": [],
   "source": [
    "import pandas as pd\n",
    "import numpy as np\n",
    "from sklearn.model_selection import train_test_split\n",
    "from sklearn.preprocessing import LabelEncoder, StandardScaler, OneHotEncoder\n",
    "from sklearn.decomposition import PCA\n",
    "from imblearn.over_sampling import SMOTE\n",
    "from sklearn.neighbors import KNeighborsClassifier\n",
    "import matplotlib.pyplot as plt\n",
    "from sklearn.metrics import accuracy_score, precision_score, recall_score, f1_score\n",
    "\n",
    "import os\n"
   ]
  },
  {
   "cell_type": "code",
   "execution_count": 2,
   "metadata": {},
   "outputs": [
    {
     "name": "stdout",
     "output_type": "stream",
     "text": [
      "Warning: Looks like you're using an outdated `kagglehub` version (installed: 0.3.6), please consider upgrading to the latest version (0.3.8).\n",
      "Path to dataset files: C:\\Users\\pc\\.cache\\kagglehub\\datasets\\nitishabharathi\\cert-insider-threat\\versions\\1\n"
     ]
    }
   ],
   "source": [
    "import kagglehub\n",
    "\n",
    "# Download latest version\n",
    "path = kagglehub.dataset_download(\"nitishabharathi/cert-insider-threat\")\n",
    "\n",
    "print(\"Path to dataset files:\", path)"
   ]
  },
  {
   "cell_type": "code",
   "execution_count": null,
   "metadata": {},
   "outputs": [
    {
     "name": "stdout",
     "output_type": "stream",
     "text": [
      "Dataset Files: ['email.csv', 'psychometric.csv']\n",
      "                               id                 date     user       pc  \\\n",
      "1375085  {X9O7-L3NQ83SH-7546ROCM}  09/08/2010 09:48:21  HWH0646  PC-8087   \n",
      "1760687  {N4J5-H0DM81GR-0636AXZX}  11/18/2010 11:40:48  EMW0772  PC-6035   \n",
      "489761   {T3T3-X0QU63SN-9148FQEX}  03/29/2010 14:40:35  HAD0246  PC-0926   \n",
      "670295   {S1I7-L4JZ84KI-7061AWTL}  04/30/2010 10:57:44  ASB0796  PC-1130   \n",
      "2611719  {C8B5-Q0BW49BI-1420XVWZ}  05/12/2011 11:45:23  HCW0419  PC-3772   \n",
      "\n",
      "                                                        to   cc  \\\n",
      "1375085  Ursa.Britanney.Frederick@dtaa.com;Abel.Adam.Mo...  NaN   \n",
      "1760687  Butler-Serina@yahoo.com;Vance-Quintessa@netzer...  NaN   \n",
      "489761                                  TEB582@verizon.net  NaN   \n",
      "670295   Tobias.Lucas.Morin@dtaa.com;Sonya.Samantha.Hah...  NaN   \n",
      "2611719                         Herman.Ian.Abbott@dtaa.com  NaN   \n",
      "\n",
      "                                  bcc                                from  \\\n",
      "1375085                           NaN          Hadley.Willa.Hill@dtaa.com   \n",
      "1760687                           NaN                Walton-Elvis@cox.net   \n",
      "489761                            NaN                HAD172@optonline.net   \n",
      "670295                            NaN  Ayanna.Sylvia.Blankenship@dtaa.com   \n",
      "2611719  Hermione.Casey.Witt@dtaa.com        Hermione.Casey.Witt@dtaa.com   \n",
      "\n",
      "          size  attachments  \\\n",
      "1375085  53433            5   \n",
      "1760687  23746            0   \n",
      "489761   20984            0   \n",
      "670295   33996            0   \n",
      "2611719  37670            0   \n",
      "\n",
      "                                                   content  Threat  \n",
      "1375085  emotion rose better presented adult potts 12 w...       0  \n",
      "1760687  became involvement protested him recounted jun...       0  \n",
      "489761   security decide relaxed 2 considering removal ...       1  \n",
      "670295   stripped neck again former ending while useful...       0  \n",
      "2611719  ended 40 large early relish mid made arrested ...       1  \n"
     ]
    }
   ],
   "source": [
    "files = os.listdir(path)\n",
    "print(\"Dataset Files:\", files)\n",
    "df = pd.read_csv(os.path.join(path, \"email.csv\"))\n",
    "# Map Threat column to numerical (Yes -> 1, No -> 0)\n",
    "df[\"Threat\"] = np.random.choice([\"Yes\", \"No\"], size=len(df), p=[0.5, 0.5])\n",
    "df[\"Threat\"] = df[\"Threat\"].map({\"Yes\": 1, \"No\": 0})\n",
    "df = df.sample(n=500, random_state=42)\n",
    "# Display first few rows\n",
    "print(df.head(5))\n"
   ]
  },
  {
   "cell_type": "code",
   "execution_count": 4,
   "metadata": {},
   "outputs": [],
   "source": [
    "# Encode categorical variables\n",
    "label_encoders = {}\n",
    "categorical_cols = ['id', 'date', 'user', 'pc', 'to', 'cc', 'bcc', 'from']\n",
    "for col in categorical_cols:\n",
    "    le = LabelEncoder()\n",
    "    df[col] = le.fit_transform(df[col].astype(str))\n",
    "    label_encoders[col] = le"
   ]
  },
  {
   "cell_type": "code",
   "execution_count": 6,
   "metadata": {},
   "outputs": [],
   "source": [
    "# Extract features & target\n",
    "X = df.drop(columns=['Threat'])\n",
    "y = df['Threat']\n",
    "\n",
    "# Ensure all features are numerical before transformations\n",
    "X = X.apply(pd.to_numeric, errors='coerce').fillna(0)\n"
   ]
  },
  {
   "cell_type": "code",
   "execution_count": 7,
   "metadata": {},
   "outputs": [],
   "source": [
    "# Preprocessing techniques to test\n",
    "preprocessing_methods = {\n",
    "    \"Baseline\": lambda X, y: (X, y),\n",
    "    \"One-Hot Encoding\": lambda X, y: (np.hstack((OneHotEncoder(handle_unknown='ignore', sparse_output=False).fit_transform(X[categorical_cols]), X.drop(columns=categorical_cols).values)), y),\n",
    "    \"Standardization\": lambda X, y: (StandardScaler().fit_transform(X), y),\n",
    "    \"PCA\": lambda X, y: (PCA(n_components=0.95).fit_transform(StandardScaler().fit_transform(X)), y),\n",
    "    \"SMOTE\": lambda X, y: SMOTE(random_state=42).fit_resample(X, y)\n",
    "}\n",
    "\n",
    "accuracy_results = {}\n",
    "precision_results = {}\n",
    "recall_results = {}\n",
    "f1_results = {}"
   ]
  },
  {
   "cell_type": "code",
   "execution_count": null,
   "metadata": {},
   "outputs": [],
   "source": [
    "for method, preprocess in preprocessing_methods.items():\n",
    "    print(f\"Applying {method}...\")\n",
    "    X_processed, y_processed = preprocess(X, y)\n",
    "    \n",
    "    # Train-test split\n",
    "    X_train, X_test, y_train, y_test = train_test_split(X_processed, y_processed, test_size=0.2, random_state=42)\n",
    "    \n",
    "    # Train KNN model\n",
    "    knn = KNeighborsClassifier(n_neighbors=5)\n",
    "    knn.fit(X_train, y_train)\n",
    "    \n",
    "    # Predict on test set\n",
    "    y_pred = knn.predict(X_test)\n",
    "    \n",
    "    # Compute accuracy\n",
    "    accuracy = accuracy_score(y_test, y_pred)\n",
    "    accuracy_results[method] = accuracy\n",
    "    \n",
    "    precision=precision_score(y_test, y_pred, average='weighted')\n",
    "    precision_results[method]=precision\n",
    "    \n",
    "    recall=recall_score(y_test, y_pred, average='weighted')\n",
    "    recall_results[method]=recall\n",
    "   \n",
    "    f1=f1_score(y_test, y_pred, average='weighted')\n",
    "    f1_results[method]=f1   \n",
    "    \n",
    "    "
   ]
  }
 ],
 "metadata": {
  "kernelspec": {
   "display_name": "Python 3",
   "language": "python",
   "name": "python3"
  },
  "language_info": {
   "codemirror_mode": {
    "name": "ipython",
    "version": 3
   },
   "file_extension": ".py",
   "mimetype": "text/x-python",
   "name": "python",
   "nbconvert_exporter": "python",
   "pygments_lexer": "ipython3",
   "version": "3.12.0"
  }
 },
 "nbformat": 4,
 "nbformat_minor": 2
}
