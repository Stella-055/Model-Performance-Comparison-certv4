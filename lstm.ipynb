{
 "cells": [
  {
   "cell_type": "code",
   "execution_count": null,
   "metadata": {},
   "outputs": [],
   "source": [
    "import pandas as pd\n",
    "import numpy as np\n",
    "from sklearn.model_selection import train_test_split\n",
    "from sklearn.preprocessing import LabelEncoder, StandardScaler\n",
    "from sklearn.metrics import accuracy_score, precision_score, recall_score, f1_score\n",
    "from imblearn.over_sampling import SMOTE\n",
    "import torch\n",
    "import torch.nn as nn\n",
    "import torch.optim as optim\n",
    "from torch.utils.data import DataLoader, TensorDataset"
   ]
  },
  {
   "cell_type": "code",
   "execution_count": null,
   "metadata": {},
   "outputs": [
    {
     "name": "stdout",
     "output_type": "stream",
     "text": [
      "Warning: Looks like you're using an outdated `kagglehub` version (installed: 0.3.6), please consider upgrading to the latest version (0.3.8).\n",
      "Path to dataset files: C:\\Users\\pc\\.cache\\kagglehub\\datasets\\nitishabharathi\\cert-insider-threat\\versions\\1\n"
     ]
    }
   ],
   "source": [
    "import kagglehub\n",
    "import os\n",
    "# Download latest version\n",
    "path = kagglehub.dataset_download(\"nitishabharathi/cert-insider-threat\")\n",
    "\n",
    "print(\"Path to dataset files:\", path)"
   ]
  },
  {
   "cell_type": "code",
   "execution_count": 3,
   "metadata": {},
   "outputs": [
    {
     "name": "stdout",
     "output_type": "stream",
     "text": [
      "Dataset Files: ['email.csv', 'psychometric.csv']\n",
      "                               id                 date     user       pc  \\\n",
      "1375085  {X9O7-L3NQ83SH-7546ROCM}  09/08/2010 09:48:21  HWH0646  PC-8087   \n",
      "1760687  {N4J5-H0DM81GR-0636AXZX}  11/18/2010 11:40:48  EMW0772  PC-6035   \n",
      "489761   {T3T3-X0QU63SN-9148FQEX}  03/29/2010 14:40:35  HAD0246  PC-0926   \n",
      "670295   {S1I7-L4JZ84KI-7061AWTL}  04/30/2010 10:57:44  ASB0796  PC-1130   \n",
      "2611719  {C8B5-Q0BW49BI-1420XVWZ}  05/12/2011 11:45:23  HCW0419  PC-3772   \n",
      "\n",
      "                                                        to   cc  \\\n",
      "1375085  Ursa.Britanney.Frederick@dtaa.com;Abel.Adam.Mo...  NaN   \n",
      "1760687  Butler-Serina@yahoo.com;Vance-Quintessa@netzer...  NaN   \n",
      "489761                                  TEB582@verizon.net  NaN   \n",
      "670295   Tobias.Lucas.Morin@dtaa.com;Sonya.Samantha.Hah...  NaN   \n",
      "2611719                         Herman.Ian.Abbott@dtaa.com  NaN   \n",
      "\n",
      "                                  bcc                                from  \\\n",
      "1375085                           NaN          Hadley.Willa.Hill@dtaa.com   \n",
      "1760687                           NaN                Walton-Elvis@cox.net   \n",
      "489761                            NaN                HAD172@optonline.net   \n",
      "670295                            NaN  Ayanna.Sylvia.Blankenship@dtaa.com   \n",
      "2611719  Hermione.Casey.Witt@dtaa.com        Hermione.Casey.Witt@dtaa.com   \n",
      "\n",
      "          size  attachments  \\\n",
      "1375085  53433            5   \n",
      "1760687  23746            0   \n",
      "489761   20984            0   \n",
      "670295   33996            0   \n",
      "2611719  37670            0   \n",
      "\n",
      "                                                   content  Threat  \n",
      "1375085  emotion rose better presented adult potts 12 w...       0  \n",
      "1760687  became involvement protested him recounted jun...       1  \n",
      "489761   security decide relaxed 2 considering removal ...       1  \n",
      "670295   stripped neck again former ending while useful...       1  \n",
      "2611719  ended 40 large early relish mid made arrested ...       1  \n"
     ]
    }
   ],
   "source": [
    "files = os.listdir(path)\n",
    "print(\"Dataset Files:\", files)\n",
    "df = pd.read_csv(os.path.join(path, \"email.csv\"))\n",
    "# Map Threat column to numerical (Yes -> 1, No -> 0)\n",
    "df[\"Threat\"] = np.random.choice([\"Yes\", \"No\"], size=len(df), p=[0.5, 0.5])\n",
    "df[\"Threat\"] = df[\"Threat\"].map({\"Yes\": 1, \"No\": 0})\n",
    "df = df.sample(n=500, random_state=42)\n",
    "# Display first few rows\n",
    "print(df.head(5))"
   ]
  },
  {
   "cell_type": "code",
   "execution_count": 4,
   "metadata": {},
   "outputs": [],
   "source": [
    "# Encode categorical variables\n",
    "categorical_cols = ['id', 'date', 'user', 'pc', 'to', 'cc', 'bcc', 'from', 'content']  # Adjust as needed\n",
    "label_encoders = {}\n",
    "\n",
    "for col in categorical_cols:\n",
    "    le = LabelEncoder()\n",
    "    df[col] = le.fit_transform(df[col].astype(str))\n",
    "    label_encoders[col] = le\n",
    "\n",
    "# Define features and target\n",
    "X = df.drop(columns=['Threat']).values  # Features\n",
    "y = df['Threat'].values  # Target variable\n"
   ]
  },
  {
   "cell_type": "code",
   "execution_count": 5,
   "metadata": {},
   "outputs": [],
   "source": [
    "# Handle class imbalance using SMOTE\n",
    "smote = SMOTE(random_state=42)\n",
    "X_resampled, y_resampled = smote.fit_resample(X, y)\n",
    "\n",
    "# Split data into training and testing sets\n",
    "X_train, X_test, y_train, y_test = train_test_split(X_resampled, y_resampled, test_size=0.2, random_state=42, stratify=y_resampled)\n"
   ]
  },
  {
   "cell_type": "code",
   "execution_count": 6,
   "metadata": {},
   "outputs": [],
   "source": [
    "# Standardize features\n",
    "scaler = StandardScaler()\n",
    "X_train = scaler.fit_transform(X_train)\n",
    "X_test = scaler.transform(X_test)"
   ]
  },
  {
   "cell_type": "code",
   "execution_count": 7,
   "metadata": {},
   "outputs": [],
   "source": [
    "# Convert data to PyTorch tensors\n",
    "X_train_tensor = torch.tensor(X_train, dtype=torch.float32)\n",
    "X_test_tensor = torch.tensor(X_test, dtype=torch.float32)\n",
    "y_train_tensor = torch.tensor(y_train, dtype=torch.long)\n",
    "y_test_tensor = torch.tensor(y_test, dtype=torch.long)\n"
   ]
  },
  {
   "cell_type": "code",
   "execution_count": 8,
   "metadata": {},
   "outputs": [],
   "source": [
    "# Create DataLoader\n",
    "train_dataset = TensorDataset(X_train_tensor, y_train_tensor)\n",
    "test_dataset = TensorDataset(X_test_tensor, y_test_tensor)\n",
    "train_loader = DataLoader(train_dataset, batch_size=64, shuffle=True)\n",
    "test_loader = DataLoader(test_dataset, batch_size=64, shuffle=False)\n"
   ]
  },
  {
   "cell_type": "code",
   "execution_count": 9,
   "metadata": {},
   "outputs": [],
   "source": [
    "# Define the LSTM model\n",
    "class LSTMClassifier(nn.Module):\n",
    "    def __init__(self, input_dim, hidden_dim, output_dim, num_layers):\n",
    "        super(LSTMClassifier, self).__init__()\n",
    "        self.lstm = nn.LSTM(input_dim, hidden_dim, num_layers, batch_first=True)\n",
    "        self.fc = nn.Linear(hidden_dim, output_dim)\n",
    "        self.softmax = nn.Softmax(dim=1)\n",
    "    \n",
    "    def forward(self, x):\n",
    "        h0 = torch.zeros(num_layers, x.size(0), hidden_dim).to(device)\n",
    "        c0 = torch.zeros(num_layers, x.size(0), hidden_dim).to(device)\n",
    "        out, _ = self.lstm(x, (h0, c0))\n",
    "        out = self.fc(out[:, -1, :])\n",
    "        return self.softmax(out)"
   ]
  },
  {
   "cell_type": "code",
   "execution_count": 10,
   "metadata": {},
   "outputs": [],
   "source": [
    "# Hyperparameters\n",
    "input_dim = X_train.shape[1]\n",
    "hidden_dim = 128\n",
    "output_dim = len(np.unique(y))  # Number of classes\n",
    "num_layers = 2\n",
    "num_epochs = 10\n",
    "learning_rate = 0.001"
   ]
  },
  {
   "cell_type": "code",
   "execution_count": 11,
   "metadata": {},
   "outputs": [],
   "source": [
    "# Initialize model, loss function, and optimizer\n",
    "device = torch.device('cuda' if torch.cuda.is_available() else 'cpu')\n",
    "model = LSTMClassifier(input_dim, hidden_dim, output_dim, num_layers).to(device)\n",
    "criterion = nn.CrossEntropyLoss()\n",
    "optimizer = optim.Adam(model.parameters(), lr=learning_rate)\n"
   ]
  },
  {
   "cell_type": "code",
   "execution_count": 12,
   "metadata": {},
   "outputs": [
    {
     "name": "stdout",
     "output_type": "stream",
     "text": [
      "Epoch [1/10], Loss: 0.6936\n",
      "Epoch [2/10], Loss: 0.6939\n",
      "Epoch [3/10], Loss: 0.6920\n",
      "Epoch [4/10], Loss: 0.6908\n",
      "Epoch [5/10], Loss: 0.6905\n",
      "Epoch [6/10], Loss: 0.6879\n",
      "Epoch [7/10], Loss: 0.6854\n",
      "Epoch [8/10], Loss: 0.6957\n",
      "Epoch [9/10], Loss: 0.6884\n",
      "Epoch [10/10], Loss: 0.7069\n"
     ]
    }
   ],
   "source": [
    "# Training loop\n",
    "model.train()\n",
    "for epoch in range(num_epochs):\n",
    "    for X_batch, y_batch in train_loader:\n",
    "        X_batch, y_batch = X_batch.to(device), y_batch.to(device)\n",
    "        outputs = model(X_batch.unsqueeze(1))\n",
    "        loss = criterion(outputs, y_batch)\n",
    "        optimizer.zero_grad()\n",
    "        loss.backward()\n",
    "        optimizer.step()\n",
    "    print(f'Epoch [{epoch+1}/{num_epochs}], Loss: {loss.item():.4f}')\n"
   ]
  },
  {
   "cell_type": "code",
   "execution_count": 13,
   "metadata": {},
   "outputs": [],
   "source": [
    "# Evaluation\n",
    "model.eval()\n",
    "y_pred = []\n",
    "with torch.no_grad():\n",
    "    for X_batch, _ in test_loader:\n",
    "        X_batch = X_batch.to(device)\n",
    "        outputs = model(X_batch.unsqueeze(1))\n",
    "        _, predicted = torch.max(outputs.data, 1)\n",
    "        y_pred.extend(predicted.cpu().numpy())\n"
   ]
  },
  {
   "cell_type": "code",
   "execution_count": 1,
   "metadata": {},
   "outputs": [
    {
     "ename": "NameError",
     "evalue": "name 'accuracy_score' is not defined",
     "output_type": "error",
     "traceback": [
      "\u001b[1;31m---------------------------------------------------------------------------\u001b[0m",
      "\u001b[1;31mNameError\u001b[0m                                 Traceback (most recent call last)",
      "Cell \u001b[1;32mIn[1], line 2\u001b[0m\n\u001b[0;32m      1\u001b[0m \u001b[38;5;66;03m# Calculate metrics\u001b[39;00m\n\u001b[1;32m----> 2\u001b[0m accuracy \u001b[38;5;241m=\u001b[39m \u001b[43maccuracy_score\u001b[49m(y_test, y_pred)\n\u001b[0;32m      3\u001b[0m precision \u001b[38;5;241m=\u001b[39m precision_score(y_test, y_pred, average\u001b[38;5;241m=\u001b[39m\u001b[38;5;124m'\u001b[39m\u001b[38;5;124mweighted\u001b[39m\u001b[38;5;124m'\u001b[39m)\n\u001b[0;32m      4\u001b[0m recall \u001b[38;5;241m=\u001b[39m recall_score(y_test, y_pred, average\u001b[38;5;241m=\u001b[39m\u001b[38;5;124m'\u001b[39m\u001b[38;5;124mweighted\u001b[39m\u001b[38;5;124m'\u001b[39m)\n",
      "\u001b[1;31mNameError\u001b[0m: name 'accuracy_score' is not defined"
     ]
    }
   ],
   "source": [
    "# Calculate metrics\n",
    "accuracy = accuracy_score(y_test, y_pred)\n",
    "precision = precision_score(y_test, y_pred, average='weighted')\n",
    "recall = recall_score(y_test, y_pred, average='weighted')\n",
    "f1 = f1_score(y_test, y_pred, average='weighted')\n"
   ]
  }
 ],
 "metadata": {
  "kernelspec": {
   "display_name": "Python 3",
   "language": "python",
   "name": "python3"
  },
  "language_info": {
   "codemirror_mode": {
    "name": "ipython",
    "version": 3
   },
   "file_extension": ".py",
   "mimetype": "text/x-python",
   "name": "python",
   "nbconvert_exporter": "python",
   "pygments_lexer": "ipython3",
   "version": "3.12.0"
  }
 },
 "nbformat": 4,
 "nbformat_minor": 2
}
