{
 "cells": [
  {
   "cell_type": "code",
   "execution_count": 2,
   "metadata": {},
   "outputs": [],
   "source": [
    "import pandas as pd\n",
    "import numpy as np\n",
    "from sklearn.model_selection import train_test_split\n",
    "from sklearn.ensemble import RandomForestClassifier\n",
    "from sklearn.preprocessing import StandardScaler, LabelEncoder\n",
    "from sklearn.decomposition import PCA\n",
    "from imblearn.over_sampling import SMOTE\n",
    "from sklearn.feature_selection import SelectKBest, chi2\n",
    "from sklearn.metrics import accuracy_score, precision_score, recall_score, f1_score"
   ]
  },
  {
   "cell_type": "code",
   "execution_count": 3,
   "metadata": {},
   "outputs": [
    {
     "name": "stdout",
     "output_type": "stream",
     "text": [
      "Warning: Looks like you're using an outdated `kagglehub` version (installed: 0.3.6), please consider upgrading to the latest version (0.3.8).\n",
      "Path to dataset files: C:\\Users\\pc\\.cache\\kagglehub\\datasets\\nitishabharathi\\cert-insider-threat\\versions\\1\n"
     ]
    }
   ],
   "source": [
    "import kagglehub\n",
    "import os\n",
    "# Download latest version\n",
    "path = kagglehub.dataset_download(\"nitishabharathi/cert-insider-threat\")\n",
    "\n",
    "print(\"Path to dataset files:\", path)"
   ]
  },
  {
   "cell_type": "code",
   "execution_count": 4,
   "metadata": {},
   "outputs": [
    {
     "name": "stdout",
     "output_type": "stream",
     "text": [
      "Dataset Files: ['email.csv', 'psychometric.csv']\n",
      "                               id                 date     user       pc  \\\n",
      "1375085  {X9O7-L3NQ83SH-7546ROCM}  09/08/2010 09:48:21  HWH0646  PC-8087   \n",
      "1760687  {N4J5-H0DM81GR-0636AXZX}  11/18/2010 11:40:48  EMW0772  PC-6035   \n",
      "489761   {T3T3-X0QU63SN-9148FQEX}  03/29/2010 14:40:35  HAD0246  PC-0926   \n",
      "670295   {S1I7-L4JZ84KI-7061AWTL}  04/30/2010 10:57:44  ASB0796  PC-1130   \n",
      "2611719  {C8B5-Q0BW49BI-1420XVWZ}  05/12/2011 11:45:23  HCW0419  PC-3772   \n",
      "\n",
      "                                                        to   cc  \\\n",
      "1375085  Ursa.Britanney.Frederick@dtaa.com;Abel.Adam.Mo...  NaN   \n",
      "1760687  Butler-Serina@yahoo.com;Vance-Quintessa@netzer...  NaN   \n",
      "489761                                  TEB582@verizon.net  NaN   \n",
      "670295   Tobias.Lucas.Morin@dtaa.com;Sonya.Samantha.Hah...  NaN   \n",
      "2611719                         Herman.Ian.Abbott@dtaa.com  NaN   \n",
      "\n",
      "                                  bcc                                from  \\\n",
      "1375085                           NaN          Hadley.Willa.Hill@dtaa.com   \n",
      "1760687                           NaN                Walton-Elvis@cox.net   \n",
      "489761                            NaN                HAD172@optonline.net   \n",
      "670295                            NaN  Ayanna.Sylvia.Blankenship@dtaa.com   \n",
      "2611719  Hermione.Casey.Witt@dtaa.com        Hermione.Casey.Witt@dtaa.com   \n",
      "\n",
      "          size  attachments  \\\n",
      "1375085  53433            5   \n",
      "1760687  23746            0   \n",
      "489761   20984            0   \n",
      "670295   33996            0   \n",
      "2611719  37670            0   \n",
      "\n",
      "                                                   content  Threat  \n",
      "1375085  emotion rose better presented adult potts 12 w...       0  \n",
      "1760687  became involvement protested him recounted jun...       0  \n",
      "489761   security decide relaxed 2 considering removal ...       0  \n",
      "670295   stripped neck again former ending while useful...       1  \n",
      "2611719  ended 40 large early relish mid made arrested ...       0  \n"
     ]
    }
   ],
   "source": [
    "files = os.listdir(path)\n",
    "print(\"Dataset Files:\", files)\n",
    "df = pd.read_csv(os.path.join(path, \"email.csv\"))\n",
    "# Map Threat column to numerical (Yes -> 1, No -> 0)\n",
    "df[\"Threat\"] = np.random.choice([\"Yes\", \"No\"], size=len(df), p=[0.5, 0.5])\n",
    "df[\"Threat\"] = df[\"Threat\"].map({\"Yes\": 1, \"No\": 0})\n",
    "df = df.sample(n=500, random_state=42)\n",
    "# Display first few rows\n",
    "print(df.head(5))"
   ]
  },
  {
   "cell_type": "code",
   "execution_count": 5,
   "metadata": {},
   "outputs": [],
   "source": [
    "# Encoding categorical variables\n",
    "categorical_cols = ['id', 'date', 'user', 'pc', 'to', 'cc', 'bcc', 'from', 'content']  # Adjust as needed\n",
    "label_encoders = {}\n",
    "\n",
    "for col in categorical_cols:\n",
    "    le = LabelEncoder()\n",
    "    df[col] = le.fit_transform(df[col].astype(str))\n",
    "    label_encoders[col] = le\n",
    "\n",
    "# Define features and target\n",
    "X = df.drop(columns=['Threat'])  # Features\n",
    "y = df['Threat']  # Target variable\n",
    "\n",
    "# Split data\n",
    "X_train, X_test, y_train, y_test = train_test_split(X, y, test_size=0.2, random_state=42, stratify=y)\n"
   ]
  },
  {
   "cell_type": "code",
   "execution_count": 7,
   "metadata": {},
   "outputs": [],
   "source": [
    "# Apply SMOTE to handle class imbalance\n",
    "smote = SMOTE(random_state=42)\n",
    "X_train_resampled, y_train_resampled = smote.fit_resample(X_train, y_train)\n"
   ]
  },
  {
   "cell_type": "code",
   "execution_count": 8,
   "metadata": {},
   "outputs": [],
   "source": [
    "# Feature selection (using chi-square)\n",
    "selector = SelectKBest(chi2, k=8)  # Choose best 8 features\n",
    "X_train_selected = selector.fit_transform(X_train_resampled, y_train_resampled)\n",
    "X_test_selected = selector.transform(X_test)\n",
    "\n",
    "# Train Random Forest Classifier (Baseline)\n",
    "clf = RandomForestClassifier(random_state=42)\n",
    "clf.fit(X_train_selected, y_train_resampled)\n",
    "\n",
    "# Predictions\n",
    "y_pred_baseline = clf.predict(X_test_selected)\n",
    "\n",
    "# Evaluate Baseline Model\n",
    "baseline_results = {\n",
    "    \"Accuracy\": accuracy_score(y_test, y_pred_baseline),\n",
    "    \"Precision\": precision_score(y_test, y_pred_baseline, average='weighted'),\n",
    "    \"Recall\": recall_score(y_test, y_pred_baseline, average='weighted'),\n",
    "    \"F1 Score\": f1_score(y_test, y_pred_baseline, average='weighted'),\n",
    "}"
   ]
  },
  {
   "cell_type": "code",
   "execution_count": 10,
   "metadata": {},
   "outputs": [],
   "source": [
    " #Standardization\n",
    "scaler = StandardScaler()\n",
    "X_train_scaled = scaler.fit_transform(X_train_selected)\n",
    "X_test_scaled = scaler.transform(X_test_selected)\n",
    "\n",
    "# Train Random Forest Classifier (After Standardization)\n",
    "clf_standardized = RandomForestClassifier(random_state=42)\n",
    "clf_standardized.fit(X_train_scaled, y_train_resampled)\n",
    "\n",
    "# Predictions after Standardization\n",
    "y_pred_standardized = clf_standardized.predict(X_test_scaled)\n",
    "\n",
    "# Evaluate Standardized Model\n",
    "standardized_results = {\n",
    "    \"Accuracy\": accuracy_score(y_test, y_pred_standardized),\n",
    "    \"Precision\": precision_score(y_test, y_pred_standardized, average='weighted'),\n",
    "    \"Recall\": recall_score(y_test, y_pred_standardized, average='weighted'),\n",
    "    \"F1 Score\": f1_score(y_test, y_pred_standardized, average='weighted'),\n",
    "}"
   ]
  },
  {
   "cell_type": "code",
   "execution_count": 11,
   "metadata": {},
   "outputs": [],
   "source": [
    "# Apply PCA for dimensionality reduction\n",
    "pca = PCA(n_components=5)  # Keep 5 principal components\n",
    "X_train_pca = pca.fit_transform(X_train_scaled)\n",
    "X_test_pca = pca.transform(X_test_scaled)\n",
    "\n",
    "# Train Random Forest Classifier (After PCA)\n",
    "clf_pca = RandomForestClassifier(random_state=42)\n",
    "clf_pca.fit(X_train_pca, y_train_resampled)\n",
    "\n",
    "# Predictions after PCA\n",
    "y_pred_pca = clf_pca.predict(X_test_pca)\n",
    "\n",
    "# Evaluate PCA Model\n",
    "pca_results = {\n",
    "    \"Accuracy\": accuracy_score(y_test, y_pred_pca),\n",
    "    \"Precision\": precision_score(y_test, y_pred_pca, average='weighted'),\n",
    "    \"Recall\": recall_score(y_test, y_pred_pca, average='weighted'),\n",
    "    \"F1 Score\": f1_score(y_test, y_pred_pca, average='weighted'),\n",
    "}\n"
   ]
  },
  {
   "cell_type": "code",
   "execution_count": null,
   "metadata": {},
   "outputs": [],
   "source": [
    "# Print results\n",
    "print(\"Baseline Model Results:\", baseline_results)\n",
    "print(\"Standardized Model Results:\", standardized_results)\n",
    "print(\"PCA Model Results:\", pca_results)"
   ]
  }
 ],
 "metadata": {
  "kernelspec": {
   "display_name": "Python 3",
   "language": "python",
   "name": "python3"
  },
  "language_info": {
   "codemirror_mode": {
    "name": "ipython",
    "version": 3
   },
   "file_extension": ".py",
   "mimetype": "text/x-python",
   "name": "python",
   "nbconvert_exporter": "python",
   "pygments_lexer": "ipython3",
   "version": "3.12.0"
  }
 },
 "nbformat": 4,
 "nbformat_minor": 2
}
